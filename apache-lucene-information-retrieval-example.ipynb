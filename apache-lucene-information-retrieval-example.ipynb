{
 "cells": [
  {
   "cell_type": "markdown",
   "metadata": {},
   "source": [
    "# Word-based Information Retrieval with Apache Lucene\n",
    "\n",
    "Created by Jonathan Diebel"
   ]
  },
  {
   "cell_type": "markdown",
   "metadata": {},
   "source": [
    "[Apache Lucene](https://lucene.apache.org/) is a powerful, open-source search library written in Java.<br>\n",
    "\n",
    "This notebook demonstrates how to use Apache Lucene for word-based information retrieval tasks. We will cover the basics of using Lucene, including:\n",
    "- Creating an index\n",
    "- Adding documents to the index\n",
    "- Updating documents in the index\n",
    "- Performing searches on the index"
   ]
  },
  {
   "cell_type": "markdown",
   "metadata": {},
   "source": [
    "## 1 Setup and Dependencies\n",
    "\n",
    "First, ensure you have the necessary Lucene libraries. Download Lucene from [the official website](https://lucene.apache.org/core/downloads.html).\n",
    "\n",
    "Make sure you include the following jars in your classpath:\n",
    "- lucene-core\n",
    "- lucene-analyzers-common\n",
    "- lucene-queryparser"
   ]
  },
  {
   "cell_type": "code",
   "execution_count": 1,
   "metadata": {},
   "outputs": [],
   "source": [
    "// Add the Lucene libraries to the classpath\n",
    "%classpath add jar /lucene-9.10.0/lucene-core-9.10.0.jar\n",
    "%classpath add jar /lucene-9.10.0/lucene-analysis-common-9.10.0.jar\n",
    "%classpath add jar /lucene-9.10.0/lucene-queryparser-9.10.0.jar"
   ]
  },
  {
   "cell_type": "code",
   "execution_count": 2,
   "metadata": {},
   "outputs": [],
   "source": [
    "// Import necessary Lucene classes\n",
    "import org.apache.lucene.analysis.standard.StandardAnalyzer;\n",
    "import org.apache.lucene.document.Document;\n",
    "import org.apache.lucene.document.Field;\n",
    "import org.apache.lucene.document.StringField;\n",
    "import org.apache.lucene.document.TextField;\n",
    "import org.apache.lucene.index.DirectoryReader;\n",
    "import org.apache.lucene.index.IndexWriter;\n",
    "import org.apache.lucene.index.IndexWriterConfig;\n",
    "import org.apache.lucene.index.Term;\n",
    "import org.apache.lucene.queryparser.classic.QueryParser;\n",
    "import org.apache.lucene.search.IndexSearcher;\n",
    "import org.apache.lucene.search.Query;\n",
    "import org.apache.lucene.search.ScoreDoc;\n",
    "import org.apache.lucene.store.Directory;\n",
    "import org.apache.lucene.store.MMapDirectory;\n",
    "\n",
    "import java.nio.file.Paths;\n",
    "import java.io.IOException;"
   ]
  },
  {
   "cell_type": "markdown",
   "metadata": {},
   "source": [
    "## 2 Creating an Index\n",
    "\n",
    "First, we need to set up the analyzer and the directory to store our index. We will use `MMapDirectory` for the index storage."
   ]
  },
  {
   "cell_type": "code",
   "execution_count": null,
   "metadata": {},
   "outputs": [],
   "source": [
    "// Set up the standard analyzer and MMapDirectory for index storage\n",
    "StandardAnalyzer analyzer = new StandardAnalyzer();\n",
    "Directory index = new MMapDirectory(Paths.get(\"/usr/local/lucene-index\"));\n",
    "\n",
    "// Configuration for the IndexWriter\n",
    "IndexWriterConfig config = new IndexWriterConfig(analyzer);\n",
    "\n",
    "// Initialize the IndexWriter with the configuration\n",
    "IndexWriter writer = new IndexWriter(index, config);"
   ]
  },
  {
   "cell_type": "markdown",
   "metadata": {},
   "source": [
    "## 3 Adding Documents\n",
    "\n"
   ]
  },
  {
   "cell_type": "code",
   "execution_count": 3,
   "metadata": {},
   "outputs": [],
   "source": [
    "// Method to add a document to the index\n",
    "public void addDoc(IndexWriter writer, String title, String content) throws IOException {\n",
    "    Document doc = new Document();\n",
    "    doc.add(new StringField(\"title\", title, Field.Store.YES));\n",
    "    doc.add(new TextField(\"content\", content, Field.Store.YES));\n",
    "    writer.addDocument(doc);\n",
    "}\n",
    "\n",
    "// Adding sample documents\n",
    "addDoc(writer, \"Information retrieva\", \"Information retrieval is the process of obtaining information from a large repository.\");\n",
    "addDoc(writer, \"Lucene Introduction\", \"Lucene is a powerful search engine library written in Java.\");\n",
    "addDoc(writer, \"Lucene vs Elasticsearch\", \"Both Lucene and Elasticsearch are used for full-text search, but Elasticsearch is built on top of Lucene.\");\n",
    "addDoc(writer, \"Getting Started with Lucene\", \"This is a beginner's guide to getting started with Apache Lucene.\");\n",
    "writer.close();"
   ]
  },
  {
   "cell_type": "markdown",
   "metadata": {},
   "source": [
    "## Searching the Index\n",
    "\n",
    "Now that we have indexed our documents, we can perform searches on the index. We will use the `IndexSearcher` and `QueryParser` classes to execute search queries."
   ]
  },
  {
   "cell_type": "code",
   "execution_count": 5,
   "metadata": {},
   "outputs": [
    {
     "name": "stdout",
     "output_type": "stream",
     "text": [
      "Found 1 hits.\n",
      "1. Lucene Introduction\tLucene is a search engine library written in Java.\n"
     ]
    }
   ],
   "source": [
    "// Initialize the IndexSearcher\n",
    "DirectoryReader reader = DirectoryReader.open(index);\n",
    "IndexSearcher searcher = new IndexSearcher(reader);\n",
    "\n",
    "// Define a method to perform search and display results\n",
    "public void search(String querystr) throws Exception {\n",
    "    QueryParser parser = new QueryParser(\"content\", analyzer);\n",
    "    Query query = parser.parse(querystr);\n",
    "    ScoreDoc[] hits = searcher.search(query, 10).scoreDocs;\n",
    "\n",
    "    System.out.println(\"Found \" + hits.length + \" hits.\");\n",
    "    for (int i = 0; i < hits.length; ++i) {\n",
    "        int docId = hits[i].doc;\n",
    "        Document d = searcher.doc(docId);\n",
    "        System.out.println((i + 1) + \". \" + d.get(\"title\") + \"\\t\" + d.get(\"content\"));\n",
    "    }\n",
    "}\n",
    "\n",
    "// Performing a search\n",
    "search(\"Java\");"
   ]
  }
 ],
 "metadata": {
  "kernelspec": {
   "display_name": "Java",
   "language": "java",
   "name": "java"
  },
  "language_info": {
   "codemirror_mode": "java",
   "file_extension": ".jshell",
   "mimetype": "text/x-java-source",
   "name": "java",
   "pygments_lexer": "java",
   "version": "19.0.1+10-21"
  }
 },
 "nbformat": 4,
 "nbformat_minor": 2
}
