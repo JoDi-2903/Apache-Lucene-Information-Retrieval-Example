{
 "cells": [
  {
   "cell_type": "markdown",
   "metadata": {},
   "source": [
    "# Word-based Information Retrieval with Apache Lucene\n",
    "\n",
    "Created by Jonathan Diebel"
   ]
  },
  {
   "cell_type": "markdown",
   "metadata": {},
   "source": [
    "This notebook demonstrates how to use Apache Lucene for word-based information retrieval.<br>\n",
    "Apache Lucene is a powerful, open-source search library written in Java. We will use PyLucene, the Python extension for accessing Java Lucene.\n",
    "\n",
    "https://downloads.apache.org/lucene/pylucene/"
   ]
  },
  {
   "cell_type": "markdown",
   "metadata": {},
   "source": [
    "## 1 Installation of PyLucene\n",
    "\n",
    "PyLucene is a Python extension that enables access to the Java-based Lucene library. Lucene is a powerful search engine library developed by the Apache Software Foundation and used for full-text search and indexing. PyLucene uses JCC (Java C++ compiler) to make Java classes available in Python by generating C++ wrappers that use the Java Native Interface (JNI).\n",
    "\n",
    "**Prerequisites**:\n",
    "- Java Development Kit (JDK): PyLucene requires a JDK for compilation and a Java Runtime Environment (JRE) for runtime. From version 9.x PyLucene requires Java 11 or higher.\n",
    "- JCC: JCC must be installed before installing PyLucene. JCC is included in the PyLucene source code and can be built and installed via setup.py.\n",
    "- C/C++ compiler: A modern C/C++ compiler is required to compile the generated C++ wrappers."
   ]
  },
  {
   "cell_type": "markdown",
   "metadata": {},
   "source": []
  },
  {
   "cell_type": "code",
   "execution_count": 1,
   "metadata": {},
   "outputs": [
    {
     "ename": "ModuleNotFoundError",
     "evalue": "No module named 'lucene'",
     "output_type": "error",
     "traceback": [
      "\u001b[1;31m---------------------------------------------------------------------------\u001b[0m",
      "\u001b[1;31mModuleNotFoundError\u001b[0m                       Traceback (most recent call last)",
      "Cell \u001b[1;32mIn[1], line 2\u001b[0m\n\u001b[0;32m      1\u001b[0m \u001b[38;5;66;03m# Initialize the JVM\u001b[39;00m\n\u001b[1;32m----> 2\u001b[0m \u001b[38;5;28;01mimport\u001b[39;00m \u001b[38;5;21;01mlucene\u001b[39;00m\n\u001b[0;32m      3\u001b[0m lucene\u001b[38;5;241m.\u001b[39minitVM()\n",
      "\u001b[1;31mModuleNotFoundError\u001b[0m: No module named 'lucene'"
     ]
    }
   ],
   "source": [
    "# Initialize the JVM\n",
    "import lucene\n",
    "lucene.initVM()"
   ]
  },
  {
   "cell_type": "code",
   "execution_count": null,
   "metadata": {},
   "outputs": [],
   "source": [
    "from org.apache.lucene.analysis.standard import StandardAnalyzer\n",
    "from org.apache.lucene.document import Document, Field, TextField\n",
    "from org.apache.lucene.index import DirectoryReader, IndexWriter, IndexWriterConfig\n",
    "from org.apache.lucene.queryparser.classic import QueryParser\n",
    "from org.apache.lucene.search import IndexSearcher\n",
    "from org.apache.lucene.store import RAMDirectory"
   ]
  },
  {
   "cell_type": "code",
   "execution_count": null,
   "metadata": {},
   "outputs": [],
   "source": [
    "# Create an in-memory index\n",
    "directory = RAMDirectory()\n",
    "analyzer = StandardAnalyzer()\n",
    "config = IndexWriterConfig(analyzer)\n",
    "index_writer = IndexWriter(directory, config)"
   ]
  },
  {
   "cell_type": "code",
   "execution_count": null,
   "metadata": {},
   "outputs": [],
   "source": [
    "# Function to add documents to the index\n",
    "def add_doc(writer, title, content):\n",
    "    doc = Document()\n",
    "    doc.add(TextField(\"title\", title, Field.Store.YES))\n",
    "    doc.add(TextField(\"content\", content, Field.Store.YES))\n",
    "    writer.addDocument(doc)\n",
    "\n",
    "# Adding sample documents to the index\n",
    "add_doc(index_writer, \"Document 1\", \"Lucene is a powerful search library written in Java.\")\n",
    "add_doc(index_writer, \"Document 2\", \"Information retrieval is the process of obtaining information from a large repository.\")\n",
    "add_doc(index_writer, \"Document 3\", \"Lucene supports various types of queries including term, phrase, and wildcard queries.\")\n",
    "index_writer.close()"
   ]
  },
  {
   "cell_type": "code",
   "execution_count": null,
   "metadata": {},
   "outputs": [],
   "source": [
    "# Function to search the index\n",
    "def search_index(query_str):\n",
    "    reader = DirectoryReader.open(directory)\n",
    "    searcher = IndexSearcher(reader)\n",
    "    query_parser = QueryParser(\"content\", analyzer)\n",
    "    query = query_parser.parse(query_str)\n",
    "    hits = searcher.search(query, 10).scoreDocs\n",
    "    \n",
    "    results = []\n",
    "    for hit in hits:\n",
    "        doc_id = hit.doc\n",
    "        doc = searcher.doc(doc_id)\n",
    "        results.append((doc.get(\"title\"), doc.get(\"content\")))\n",
    "    \n",
    "    reader.close()\n",
    "    return results\n",
    "\n",
    "# Example search queries\n",
    "query1 = \"Lucene\"\n",
    "query2 = \"information retrieval\"\n",
    "query3 = \"supports queries\""
   ]
  },
  {
   "cell_type": "code",
   "execution_count": null,
   "metadata": {},
   "outputs": [],
   "source": [
    "# Perform searches and display results\n",
    "print(f\"Results for query: '{query1}'\")\n",
    "for title, content in search_index(query1):\n",
    "    print(f\"Title: {title}\\nContent: {content}\\n\")\n",
    "\n",
    "print(f\"Results for query: '{query2}'\")\n",
    "for title, content in search_index(query2):\n",
    "    print(f\"Title: {title}\\nContent: {content}\\n\")\n",
    "\n",
    "print(f\"Results for query: '{query3}'\")\n",
    "for title, content in search_index(query3):\n",
    "    print(f\"Title: {title}\\nContent: {content}\\n\")"
   ]
  }
 ],
 "metadata": {
  "kernelspec": {
   "display_name": "Python 3",
   "language": "python",
   "name": "python3"
  },
  "language_info": {
   "codemirror_mode": {
    "name": "ipython",
    "version": 3
   },
   "file_extension": ".py",
   "mimetype": "text/x-python",
   "name": "python",
   "nbconvert_exporter": "python",
   "pygments_lexer": "ipython3",
   "version": "3.11.5"
  }
 },
 "nbformat": 4,
 "nbformat_minor": 2
}
