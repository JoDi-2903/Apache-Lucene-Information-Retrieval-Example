{
 "cells": [
  {
   "cell_type": "markdown",
   "metadata": {},
   "source": [
    "# Word-based Information Retrieval with Apache Lucene\n",
    "\n",
    "Created by Jonathan Diebel"
   ]
  },
  {
   "cell_type": "markdown",
   "metadata": {},
   "source": [
    "[Apache Lucene](https://lucene.apache.org/) is a powerful, open-source search library written in Java.<br>\n",
    "This notebook demonstrates how to use Apache Lucene for word-based information retrieval tasks. We will cover the basics of using Lucene, including:\n",
    "- Creating an index\n",
    "- Adding documents to the index\n",
    "- Performing searches on the index\n",
    "- Updating documents in the index\n",
    "- Deleting single and all elements from the index"
   ]
  },
  {
   "cell_type": "markdown",
   "metadata": {},
   "source": [
    "**Note:** This Jupyter Notebook must be run with a Java kernel. Ensure that you have a Java kernel installed and selected in your Jupyter environment to execute the code cells correctly. If you don't have a Java kernel installed, you can add one using the appropriate Jupyter extensions or tools like [IJava](https://github.com/SpencerPark/IJava) which I used."
   ]
  },
  {
   "cell_type": "markdown",
   "metadata": {},
   "source": [
    "## 1 Setup and Dependencies\n",
    "\n",
    "First, ensure you have the necessary Lucene libraries. Download Lucene from [the official website](https://lucene.apache.org/core/downloads.html).\n",
    "\n",
    "Make sure you include the following jars in your classpath:\n",
    "- lucene-core\n",
    "- lucene-analyzers-common\n",
    "- lucene-queryparser"
   ]
  },
  {
   "cell_type": "code",
   "execution_count": 1,
   "metadata": {
    "vscode": {
     "languageId": "java"
    }
   },
   "outputs": [],
   "source": [
    "// Add the Lucene libraries to the classpath\n",
    "%classpath add jar /lucene-9.10.0/lucene-core-9.10.0.jar\n",
    "%classpath add jar /lucene-9.10.0/lucene-analysis-common-9.10.0.jar\n",
    "%classpath add jar /lucene-9.10.0/lucene-queryparser-9.10.0.jar"
   ]
  },
  {
   "cell_type": "code",
   "execution_count": 2,
   "metadata": {
    "vscode": {
     "languageId": "java"
    }
   },
   "outputs": [],
   "source": [
    "// Import necessary Lucene classes\n",
    "import org.apache.lucene.analysis.standard.StandardAnalyzer;\n",
    "import org.apache.lucene.document.Document;\n",
    "import org.apache.lucene.document.Field;\n",
    "import org.apache.lucene.document.StringField;\n",
    "import org.apache.lucene.document.TextField;\n",
    "import org.apache.lucene.index.DirectoryReader;\n",
    "import org.apache.lucene.index.IndexWriter;\n",
    "import org.apache.lucene.index.IndexWriterConfig;\n",
    "import org.apache.lucene.index.Term;\n",
    "import org.apache.lucene.queryparser.classic.QueryParser;\n",
    "import org.apache.lucene.search.IndexSearcher;\n",
    "import org.apache.lucene.search.Query;\n",
    "import org.apache.lucene.search.ScoreDoc;\n",
    "import org.apache.lucene.store.Directory;\n",
    "import org.apache.lucene.store.MMapDirectory;\n",
    "\n",
    "import java.nio.file.Paths;\n",
    "import java.io.IOException;"
   ]
  },
  {
   "cell_type": "markdown",
   "metadata": {},
   "source": [
    "## 2 Creating an Index\n",
    "\n",
    "First, we need to set up the analyzer and the directory to store our index. We will use `MMapDirectory` for the index storage."
   ]
  },
  {
   "cell_type": "code",
   "execution_count": 3,
   "metadata": {
    "vscode": {
     "languageId": "java"
    }
   },
   "outputs": [],
   "source": [
    "// Set up the standard analyzer and MMapDirectory for index storage\n",
    "StandardAnalyzer analyzer = new StandardAnalyzer();\n",
    "Directory index = new MMapDirectory(Paths.get(\"/usr/local/lucene-index\"));\n",
    "\n",
    "// Configuration for the IndexWriter\n",
    "IndexWriterConfig config = new IndexWriterConfig(analyzer);\n",
    "\n",
    "// Initialize the IndexWriter with the configuration\n",
    "IndexWriter writer = new IndexWriter(index, config);"
   ]
  },
  {
   "cell_type": "markdown",
   "metadata": {},
   "source": [
    "## 3 Adding Documents\n",
    "\n",
    "Next, we will create a few sample documents and add them to our index. Each document represents a piece of text that we want to make searchable."
   ]
  },
  {
   "cell_type": "code",
   "execution_count": 4,
   "metadata": {
    "vscode": {
     "languageId": "java"
    }
   },
   "outputs": [],
   "source": [
    "// Method to add a document to the index\n",
    "public void addDoc(IndexWriter writer, String title, String content) throws IOException {\n",
    "    Document doc = new Document();\n",
    "    doc.add(new StringField(\"title\", title, Field.Store.YES));\n",
    "    doc.add(new TextField(\"content\", content, Field.Store.YES));\n",
    "    writer.addDocument(doc);\n",
    "}\n",
    "\n",
    "// Adding sample documents\n",
    "addDoc(writer, \"Information retrieval\", \"Information retrieval is the process of obtaining information from a large repository.\");\n",
    "addDoc(writer, \"Lucene Introduction\", \"Lucene is a powerful search engine library written in Java.\");\n",
    "addDoc(writer, \"Lucene vs Elasticsearch\", \"Both Lucene and Elasticsearch are used for full-text search, but Elasticsearch is built on top of Lucene.\");\n",
    "addDoc(writer, \"Getting Started with Lucene\", \"This is a beginner's guide to getting started with Apache Lucene.\");\n",
    "addDoc(writer, \"Advanced Lucene Features\", \"This document explains advanced features of Lucene, including custom scoring and analysis.\");\n",
    "addDoc(writer, \"Elasticsearch Scaling\", \"Elasticsearch provides powerful scaling capabilities on top of Lucene.\");\n",
    "writer.close();"
   ]
  },
  {
   "cell_type": "markdown",
   "metadata": {},
   "source": [
    "## 4 Searching the Index\n",
    "\n",
    "Now that we have indexed our documents, we can perform searches on the index. We will use the `IndexSearcher` and `QueryParser` classes to execute search queries."
   ]
  },
  {
   "cell_type": "code",
   "execution_count": 5,
   "metadata": {
    "vscode": {
     "languageId": "java"
    }
   },
   "outputs": [],
   "source": [
    "// Define a method to perform search and display results\n",
    "public void search(String querystr, IndexSearcher searcher) throws Exception {\n",
    "    // Re-open the IndexReader to ensure it reflects the latest changes\n",
    "    DirectoryReader reader = DirectoryReader.open(index);\n",
    "    searcher = new IndexSearcher(reader);\n",
    "\n",
    "    // Parse and execute the query\n",
    "    QueryParser parser = new QueryParser(\"content\", analyzer);\n",
    "    Query query = parser.parse(querystr);\n",
    "    ScoreDoc[] hits = searcher.search(query, 10).scoreDocs;\n",
    "\n",
    "    // Display search results\n",
    "    System.out.println(\"Found \" + hits.length + \" hits.\");\n",
    "    for (int i = 0; i < hits.length; ++i) {\n",
    "        int docId = hits[i].doc;\n",
    "        Document d = searcher.doc(docId);\n",
    "        System.out.println((i + 1) + \". \" + d.get(\"title\") + \"\\t\\t\" + d.get(\"content\"));\n",
    "    }\n",
    "\n",
    "    // Close the IndexReader after searching\n",
    "    reader.close();\n",
    "}\n",
    "\n",
    "// Re-initialize the IndexSearcher\n",
    "IndexSearcher searcher = new IndexSearcher(DirectoryReader.open(index));"
   ]
  },
  {
   "cell_type": "markdown",
   "metadata": {},
   "source": [
    "### Search for documents containing \"Lucene\" or \"Elasticsearch\""
   ]
  },
  {
   "cell_type": "code",
   "execution_count": 6,
   "metadata": {
    "vscode": {
     "languageId": "java"
    }
   },
   "outputs": [
    {
     "name": "stdout",
     "output_type": "stream",
     "text": [
      "Found 5 hits.\n",
      "1. Lucene vs Elasticsearch\t\tBoth Lucene and Elasticsearch are used for full-text search, but Elasticsearch is built on top of Lucene.\n",
      "2. Elasticsearch Scaling\t\tElasticsearch provides powerful scaling capabilities on top of Lucene.\n",
      "3. Lucene Introduction\t\tLucene is a powerful search engine library written in Java.\n",
      "4. Getting Started with Lucene\t\tThis is a beginner's guide to getting started with Apache Lucene.\n",
      "5. Advanced Lucene Features\t\tThis document explains advanced features of Lucene, including custom scoring and analysis.\n"
     ]
    }
   ],
   "source": [
    "search(\"Lucene OR Elasticsearch\", searcher);"
   ]
  },
  {
   "cell_type": "markdown",
   "metadata": {},
   "source": [
    "### Search for documents containing \"guide\" and \"beginner\""
   ]
  },
  {
   "cell_type": "code",
   "execution_count": 7,
   "metadata": {
    "vscode": {
     "languageId": "java"
    }
   },
   "outputs": [
    {
     "name": "stdout",
     "output_type": "stream",
     "text": [
      "Found 1 hits.\n",
      "1. Getting Started with Lucene\t\tThis is a beginner's guide to getting started with Apache Lucene.\n"
     ]
    }
   ],
   "source": [
    "search(\"beginner's AND guide\", searcher);"
   ]
  },
  {
   "cell_type": "markdown",
   "metadata": {},
   "source": [
    "### Phrase search for \"search engine\""
   ]
  },
  {
   "cell_type": "code",
   "execution_count": 8,
   "metadata": {
    "vscode": {
     "languageId": "java"
    }
   },
   "outputs": [
    {
     "name": "stdout",
     "output_type": "stream",
     "text": [
      "Found 1 hits.\n",
      "1. Lucene Introduction\t\tLucene is a powerful search engine library written in Java.\n"
     ]
    }
   ],
   "source": [
    "search(\"\\\"search engine\\\"\", searcher);"
   ]
  },
  {
   "cell_type": "markdown",
   "metadata": {},
   "source": [
    "### Search with wildcard"
   ]
  },
  {
   "cell_type": "code",
   "execution_count": 9,
   "metadata": {
    "vscode": {
     "languageId": "java"
    }
   },
   "outputs": [
    {
     "name": "stdout",
     "output_type": "stream",
     "text": [
      "Found 3 hits.\n",
      "1. Information retrieval\t\tInformation retrieval is the process of obtaining information from a large repository.\n",
      "2. Lucene Introduction\t\tLucene is a powerful search engine library written in Java.\n",
      "3. Advanced Lucene Features\t\tThis document explains advanced features of Lucene, including custom scoring and analysis.\n"
     ]
    }
   ],
   "source": [
    "search(\"in*\", searcher);"
   ]
  },
  {
   "cell_type": "markdown",
   "metadata": {},
   "source": [
    "### Fuzzy search for terms similar to \"retrival\""
   ]
  },
  {
   "cell_type": "code",
   "execution_count": 10,
   "metadata": {
    "vscode": {
     "languageId": "java"
    }
   },
   "outputs": [
    {
     "name": "stdout",
     "output_type": "stream",
     "text": [
      "Found 1 hits.\n",
      "1. Information retrieval\t\tInformation retrieval is the process of obtaining information from a large repository.\n"
     ]
    }
   ],
   "source": [
    "search(\"retrival~\", searcher);"
   ]
  },
  {
   "cell_type": "markdown",
   "metadata": {},
   "source": [
    "###  Boosting a term\n",
    "\n",
    "Boosting a term in a search query makes it possible to increase the relevance of a specific term or phrase in the search results. The term or phrase is assigned a weight (a boost number) that indicates how relevant it should be compared to other terms.\n",
    "\n",
    "The boost factor of 2 means that the term \"Lucene\" is twice as important as other terms in the search query."
   ]
  },
  {
   "cell_type": "code",
   "execution_count": 11,
   "metadata": {
    "vscode": {
     "languageId": "java"
    }
   },
   "outputs": [
    {
     "name": "stdout",
     "output_type": "stream",
     "text": [
      "Found 5 hits.\n",
      "1. Lucene vs Elasticsearch\t\tBoth Lucene and Elasticsearch are used for full-text search, but Elasticsearch is built on top of Lucene.\n",
      "2. Elasticsearch Scaling\t\tElasticsearch provides powerful scaling capabilities on top of Lucene.\n"
     ]
    },
    {
     "name": "stdout",
     "output_type": "stream",
     "text": [
      "3. Lucene Introduction\t\tLucene is a powerful search engine library written in Java.\n",
      "4. Getting Started with Lucene\t\tThis is a beginner's guide to getting started with Apache Lucene.\n",
      "5. Advanced Lucene Features\t\tThis document explains advanced features of Lucene, including custom scoring and analysis.\n"
     ]
    }
   ],
   "source": [
    "search(\"Lucene^2 Elasticsearch\", searcher);"
   ]
  },
  {
   "cell_type": "markdown",
   "metadata": {},
   "source": [
    "### Search for a term which is not included"
   ]
  },
  {
   "cell_type": "code",
   "execution_count": 12,
   "metadata": {
    "vscode": {
     "languageId": "java"
    }
   },
   "outputs": [
    {
     "name": "stdout",
     "output_type": "stream",
     "text": [
      "Found 0 hits.\n"
     ]
    }
   ],
   "source": [
    "search(\"pizza\", searcher);"
   ]
  },
  {
   "cell_type": "markdown",
   "metadata": {},
   "source": [
    "## 5 Updating Documents in the Index\n",
    "\n",
    "Sometimes, we need to update existing documents in our index. Lucene allows us to delete the old version of a document and add the updated version.\n"
   ]
  },
  {
   "cell_type": "code",
   "execution_count": 13,
   "metadata": {
    "vscode": {
     "languageId": "java"
    }
   },
   "outputs": [],
   "source": [
    "// Configuration for the IndexWriter\n",
    "IndexWriterConfig config = new IndexWriterConfig(analyzer);\n",
    "\n",
    "// Method to update a document in the index\n",
    "public void updateDoc(IndexWriter writer, String oldTitle, String newTitle, String newContent) throws IOException {\n",
    "    Document doc = new Document();\n",
    "    doc.add(new StringField(\"title\", newTitle, Field.Store.YES));\n",
    "    doc.add(new TextField(\"content\", newContent, Field.Store.YES));\n",
    "    writer.updateDocument(new Term(\"title\", oldTitle), doc);\n",
    "}\n",
    "\n",
    "// Re-initialize the IndexWriter\n",
    "writer = new IndexWriter(index, config);\n",
    "\n",
    "// Update a document\n",
    "updateDoc(writer, \"Lucene Introduction\", \"Lucene Introduction\", \"Lucene is a search engine library written in Java. It is highly scalable.\");\n",
    "writer.close();"
   ]
  },
  {
   "cell_type": "markdown",
   "metadata": {},
   "source": [
    "### Verifying the Update\n",
    "\n",
    "Let's perform a search to verify that the document was updated successfully."
   ]
  },
  {
   "cell_type": "code",
   "execution_count": 14,
   "metadata": {
    "vscode": {
     "languageId": "java"
    }
   },
   "outputs": [
    {
     "name": "stdout",
     "output_type": "stream",
     "text": [
      "Found 1 hits.\n",
      "1. Lucene Introduction\t\tLucene is a search engine library written in Java. It is highly scalable.\n"
     ]
    }
   ],
   "source": [
    "// Perform a search to verify the update\n",
    "search(\"scalable\", searcher);"
   ]
  },
  {
   "cell_type": "markdown",
   "metadata": {},
   "source": [
    "## 6 Deleting a Document from the Index\n",
    "\n",
    "We can delete an existing document from the index based on a specific field, such as the title. The following method will find a document by its title and delete it from the index."
   ]
  },
  {
   "cell_type": "code",
   "execution_count": 15,
   "metadata": {
    "vscode": {
     "languageId": "java"
    }
   },
   "outputs": [],
   "source": [
    "// Configuration for the IndexWriter\n",
    "IndexWriterConfig config = new IndexWriterConfig(analyzer);\n",
    "\n",
    "// Method to delete a document from the index\n",
    "public void deleteDoc(IndexWriter writer, String title) throws IOException {\n",
    "    writer.deleteDocuments(new Term(\"title\", title));\n",
    "}\n",
    "\n",
    "// Re-initialize the IndexWriter\n",
    "writer = new IndexWriter(index, config);\n",
    "\n",
    "// Delete a document\n",
    "deleteDoc(writer, \"Information retrieval\");\n",
    "writer.close();"
   ]
  },
  {
   "cell_type": "markdown",
   "metadata": {},
   "source": [
    "### Verifying the Update\n",
    "\n",
    "Let's perform a search to verify that the document was deleted successfully."
   ]
  },
  {
   "cell_type": "code",
   "execution_count": 16,
   "metadata": {
    "vscode": {
     "languageId": "java"
    }
   },
   "outputs": [
    {
     "name": "stdout",
     "output_type": "stream",
     "text": [
      "Found 0 hits.\n"
     ]
    }
   ],
   "source": [
    "// Perform a search to verify the update\n",
    "search(\"Information retrieval\", searcher);"
   ]
  },
  {
   "cell_type": "markdown",
   "metadata": {},
   "source": [
    "## 7 Deleting All Documents from the Index\n",
    "\n",
    "In some cases, you might need to clear the entire index by deleting all documents. This can be useful during testing or when you want to completely reset your index. The following method demonstrates how to delete all documents from the index."
   ]
  },
  {
   "cell_type": "code",
   "execution_count": 17,
   "metadata": {
    "vscode": {
     "languageId": "java"
    }
   },
   "outputs": [
    {
     "name": "stdout",
     "output_type": "stream",
     "text": [
      "Deleted all documents from the index.\n"
     ]
    }
   ],
   "source": [
    "// Configuration for the IndexWriter\n",
    "IndexWriterConfig config = new IndexWriterConfig(analyzer);\n",
    "\n",
    "// Method to delete all documents from the index\n",
    "public void deleteAllDocs(IndexWriter writer) throws IOException {\n",
    "    // Delete all documents\n",
    "    writer.deleteAll();\n",
    "    // Commit changes to the index\n",
    "    writer.commit();\n",
    "    // Close the writer to apply changes\n",
    "    writer.close();\n",
    "\n",
    "    System.out.println(\"Deleted all documents from the index.\");\n",
    "}\n",
    "\n",
    "// Re-initialize the IndexWriter\n",
    "writer = new IndexWriter(index, config);\n",
    "\n",
    "// Delete all documents\n",
    "deleteAllDocs(writer);"
   ]
  },
  {
   "cell_type": "markdown",
   "metadata": {},
   "source": [
    "### Verifying the Update\n",
    "\n",
    "This search query uses the wildcard operator * to match all documents in the index. The pattern means \"match all\" and therefore returns all documents that are present in the index."
   ]
  },
  {
   "cell_type": "code",
   "execution_count": 18,
   "metadata": {
    "vscode": {
     "languageId": "java"
    }
   },
   "outputs": [
    {
     "name": "stdout",
     "output_type": "stream",
     "text": [
      "Found 0 hits.\n"
     ]
    }
   ],
   "source": [
    "search(\"*:*\", searcher);"
   ]
  }
 ],
 "metadata": {
  "kernelspec": {
   "display_name": "Java",
   "language": "java",
   "name": "java"
  },
  "language_info": {
   "codemirror_mode": "java",
   "file_extension": ".jshell",
   "mimetype": "text/x-java-source",
   "name": "Java",
   "pygments_lexer": "java",
   "version": "19.0.1+10-21"
  }
 },
 "nbformat": 4,
 "nbformat_minor": 2
}
